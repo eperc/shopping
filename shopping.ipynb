{
 "cells": [
  {
   "cell_type": "markdown",
   "metadata": {},
   "source": [
    "# Gender classification by transaction"
   ]
  },
  {
   "cell_type": "markdown",
   "metadata": {},
   "source": [
    "In this project, we will go thourgh the [shopping session data](https://github.com/andynganle/Data-for-Assignment) where each row contains the information of a session : session id, session's start time, session's end time, products purchased and the gender of the user in that session.\n",
    "\n",
    "After that, an attemp to perform a gender classification for users based on their sessions's information will be demonstrated."
   ]
  },
  {
   "cell_type": "markdown",
   "metadata": {},
   "source": [
    "## Preprocessing data"
   ]
  },
  {
   "cell_type": "markdown",
   "metadata": {},
   "source": [
    "Firstly, we need import necessary packages, read the data from files and see some general information."
   ]
  },
  {
   "cell_type": "code",
   "execution_count": 579,
   "metadata": {},
   "outputs": [],
   "source": [
    "import numpy as np\n",
    "import pandas as pd\n",
    "import matplotlib.pyplot as plt"
   ]
  },
  {
   "cell_type": "code",
   "execution_count": 580,
   "metadata": {},
   "outputs": [],
   "source": [
    "features = pd.read_csv('trainingData.csv', header=None, names=['session_id', 'session_start', 'session_end', 'products'])\n",
    "labels = pd.read_csv('trainingLabels.csv', header=None, names=['gender'])"
   ]
  },
  {
   "cell_type": "code",
   "execution_count": 581,
   "metadata": {},
   "outputs": [
    {
     "name": "stdout",
     "output_type": "stream",
     "text": [
      "<class 'pandas.core.frame.DataFrame'>\n",
      "RangeIndex: 15000 entries, 0 to 14999\n",
      "Data columns (total 4 columns):\n",
      "session_id       15000 non-null object\n",
      "session_start    15000 non-null object\n",
      "session_end      15000 non-null object\n",
      "products         15000 non-null object\n",
      "dtypes: object(4)\n",
      "memory usage: 468.8+ KB\n"
     ]
    }
   ],
   "source": [
    "features.info()"
   ]
  },
  {
   "cell_type": "code",
   "execution_count": 582,
   "metadata": {},
   "outputs": [
    {
     "name": "stdout",
     "output_type": "stream",
     "text": [
      "<class 'pandas.core.frame.DataFrame'>\n",
      "RangeIndex: 15000 entries, 0 to 14999\n",
      "Data columns (total 1 columns):\n",
      "gender    15000 non-null object\n",
      "dtypes: object(1)\n",
      "memory usage: 117.3+ KB\n"
     ]
    }
   ],
   "source": [
    "labels.info()"
   ]
  },
  {
   "cell_type": "code",
   "execution_count": 583,
   "metadata": {},
   "outputs": [
    {
     "data": {
      "text/html": [
       "<div>\n",
       "<style scoped>\n",
       "    .dataframe tbody tr th:only-of-type {\n",
       "        vertical-align: middle;\n",
       "    }\n",
       "\n",
       "    .dataframe tbody tr th {\n",
       "        vertical-align: top;\n",
       "    }\n",
       "\n",
       "    .dataframe thead th {\n",
       "        text-align: right;\n",
       "    }\n",
       "</style>\n",
       "<table border=\"1\" class=\"dataframe\">\n",
       "  <thead>\n",
       "    <tr style=\"text-align: right;\">\n",
       "      <th></th>\n",
       "      <th>session_id</th>\n",
       "      <th>session_start</th>\n",
       "      <th>session_end</th>\n",
       "      <th>products</th>\n",
       "    </tr>\n",
       "  </thead>\n",
       "  <tbody>\n",
       "    <tr>\n",
       "      <th>0</th>\n",
       "      <td>u10001</td>\n",
       "      <td>2014-11-14 00:02:14</td>\n",
       "      <td>2014-11-14 00:02:20</td>\n",
       "      <td>A00001/B00001/C00001/D00001/</td>\n",
       "    </tr>\n",
       "    <tr>\n",
       "      <th>1</th>\n",
       "      <td>u10002</td>\n",
       "      <td>2014-12-12 14:12:05</td>\n",
       "      <td>2014-12-12 14:12:06</td>\n",
       "      <td>A00002/B00002/C00002/D24897/</td>\n",
       "    </tr>\n",
       "    <tr>\n",
       "      <th>2</th>\n",
       "      <td>u10003</td>\n",
       "      <td>2014-11-14 00:02:41</td>\n",
       "      <td>2014-11-14 00:16:40</td>\n",
       "      <td>A00002/B00002/C00002/D00002/;A00002/B00002/C00...</td>\n",
       "    </tr>\n",
       "    <tr>\n",
       "      <th>3</th>\n",
       "      <td>u10004</td>\n",
       "      <td>2014-11-14 00:21:55</td>\n",
       "      <td>2014-11-14 00:21:57</td>\n",
       "      <td>A00002/B00006/C00015/D00030/</td>\n",
       "    </tr>\n",
       "    <tr>\n",
       "      <th>4</th>\n",
       "      <td>u10005</td>\n",
       "      <td>2014-11-14 00:26:08</td>\n",
       "      <td>2014-11-14 00:29:25</td>\n",
       "      <td>A00002/B00002/C00003/D00033/;A00002/B00002/C00...</td>\n",
       "    </tr>\n",
       "  </tbody>\n",
       "</table>\n",
       "</div>"
      ],
      "text/plain": [
       "  session_id        session_start          session_end  \\\n",
       "0     u10001  2014-11-14 00:02:14  2014-11-14 00:02:20   \n",
       "1     u10002  2014-12-12 14:12:05  2014-12-12 14:12:06   \n",
       "2     u10003  2014-11-14 00:02:41  2014-11-14 00:16:40   \n",
       "3     u10004  2014-11-14 00:21:55  2014-11-14 00:21:57   \n",
       "4     u10005  2014-11-14 00:26:08  2014-11-14 00:29:25   \n",
       "\n",
       "                                            products  \n",
       "0                       A00001/B00001/C00001/D00001/  \n",
       "1                       A00002/B00002/C00002/D24897/  \n",
       "2  A00002/B00002/C00002/D00002/;A00002/B00002/C00...  \n",
       "3                       A00002/B00006/C00015/D00030/  \n",
       "4  A00002/B00002/C00003/D00033/;A00002/B00002/C00...  "
      ]
     },
     "execution_count": 583,
     "metadata": {},
     "output_type": "execute_result"
    }
   ],
   "source": [
    "features.head()"
   ]
  },
  {
   "cell_type": "code",
   "execution_count": 584,
   "metadata": {},
   "outputs": [
    {
     "data": {
      "text/html": [
       "<div>\n",
       "<style scoped>\n",
       "    .dataframe tbody tr th:only-of-type {\n",
       "        vertical-align: middle;\n",
       "    }\n",
       "\n",
       "    .dataframe tbody tr th {\n",
       "        vertical-align: top;\n",
       "    }\n",
       "\n",
       "    .dataframe thead th {\n",
       "        text-align: right;\n",
       "    }\n",
       "</style>\n",
       "<table border=\"1\" class=\"dataframe\">\n",
       "  <thead>\n",
       "    <tr style=\"text-align: right;\">\n",
       "      <th></th>\n",
       "      <th>gender</th>\n",
       "    </tr>\n",
       "  </thead>\n",
       "  <tbody>\n",
       "    <tr>\n",
       "      <th>0</th>\n",
       "      <td>female</td>\n",
       "    </tr>\n",
       "    <tr>\n",
       "      <th>1</th>\n",
       "      <td>female</td>\n",
       "    </tr>\n",
       "    <tr>\n",
       "      <th>2</th>\n",
       "      <td>female</td>\n",
       "    </tr>\n",
       "    <tr>\n",
       "      <th>3</th>\n",
       "      <td>female</td>\n",
       "    </tr>\n",
       "    <tr>\n",
       "      <th>4</th>\n",
       "      <td>female</td>\n",
       "    </tr>\n",
       "  </tbody>\n",
       "</table>\n",
       "</div>"
      ],
      "text/plain": [
       "   gender\n",
       "0  female\n",
       "1  female\n",
       "2  female\n",
       "3  female\n",
       "4  female"
      ]
     },
     "execution_count": 584,
     "metadata": {},
     "output_type": "execute_result"
    }
   ],
   "source": [
    "labels.head()"
   ]
  },
  {
   "cell_type": "markdown",
   "metadata": {},
   "source": [
    "A session's start time and end time are date time but they are stored as string. Therefore, the columns 'session_start' and 'session_end' need to be converted to datetime columns so that they can be used later for calculations."
   ]
  },
  {
   "cell_type": "code",
   "execution_count": 585,
   "metadata": {},
   "outputs": [
    {
     "name": "stdout",
     "output_type": "stream",
     "text": [
      "<class 'pandas.core.frame.DataFrame'>\n",
      "RangeIndex: 15000 entries, 0 to 14999\n",
      "Data columns (total 4 columns):\n",
      "session_id       15000 non-null object\n",
      "session_start    15000 non-null datetime64[ns]\n",
      "session_end      15000 non-null datetime64[ns]\n",
      "products         15000 non-null object\n",
      "dtypes: datetime64[ns](2), object(2)\n",
      "memory usage: 468.8+ KB\n"
     ]
    }
   ],
   "source": [
    "features.session_start = pd.to_datetime(features.session_start)\n",
    "features.session_end = pd.to_datetime(features.session_end)\n",
    "features.info()"
   ]
  },
  {
   "cell_type": "markdown",
   "metadata": {},
   "source": [
    "The time spent for each session can be an interesting feature for the classification. A session's time is the difference between the session's start time and end time. The unit for this feature is number of minutes."
   ]
  },
  {
   "cell_type": "code",
   "execution_count": 586,
   "metadata": {},
   "outputs": [
    {
     "data": {
      "text/plain": [
       "count    15000.000000\n",
       "mean       130.303200\n",
       "std       1880.787696\n",
       "min          0.000000\n",
       "25%          0.000000\n",
       "50%          0.000000\n",
       "75%          2.000000\n",
       "max      50753.000000\n",
       "Name: session_time, dtype: float64"
      ]
     },
     "execution_count": 586,
     "metadata": {},
     "output_type": "execute_result"
    }
   ],
   "source": [
    "features['session_time'] = np.round((features.session_end - features.session_start).astype('timedelta64[s]') / 60)\n",
    "features['session_time'].describe()"
   ]
  },
  {
   "cell_type": "markdown",
   "metadata": {},
   "source": [
    "The descriptive statistics of the 'session_time' column shows that most sessions (75%) lasted 2 minutes or less. It does contain unusual values like 50753 (max) which is equal to 35 days. This needs to be investigated and fixed if necessary. However, we leave the column as it is for the classification."
   ]
  },
  {
   "cell_type": "markdown",
   "metadata": {},
   "source": [
    "The hours of a session's start time and end time can also be valuable features as the number of visitors is usually not the same at different times of day."
   ]
  },
  {
   "cell_type": "code",
   "execution_count": 587,
   "metadata": {},
   "outputs": [],
   "source": [
    "features['start_hour'] = features['session_start'].dt.hour\n",
    "features['end_hour'] = features['session_end'].dt.hour"
   ]
  },
  {
   "cell_type": "markdown",
   "metadata": {},
   "source": [
    "Now, we have 3 new features 'session_time', 'session_start' and 'session_end'. Next, we will plot the values of these features for each gender to see if there are differences. If a feature's values are different between genders, then it means that the feature can be used for the classification."
   ]
  },
  {
   "cell_type": "code",
   "execution_count": 588,
   "metadata": {},
   "outputs": [
    {
     "data": {
      "text/plain": [
       "<matplotlib.axes._subplots.AxesSubplot at 0x27b8a16cdd8>"
      ]
     },
     "execution_count": 588,
     "metadata": {},
     "output_type": "execute_result"
    },
    {
     "data": {
      "image/png": "[encoded data removed]",
      "text/plain": [
       "<Figure size 432x288 with 1 Axes>"
      ]
     },
     "metadata": {
      "needs_background": "light"
     },
     "output_type": "display_data"
    }
   ],
   "source": [
    "import seaborn as sns\n",
    "\n",
    "merge = features.merge(labels, left_index=True, right_index=True)\n",
    "sns.boxplot(x='gender', y='session_time',data=merge, showfliers=False)"
   ]
  },
  {
   "cell_type": "code",
   "execution_count": 589,
   "metadata": {
    "scrolled": true
   },
   "outputs": [
    {
     "data": {
      "text/plain": [
       "<matplotlib.axes._subplots.AxesSubplot at 0x27b896085f8>"
      ]
     },
     "execution_count": 589,
     "metadata": {},
     "output_type": "execute_result"
    },
    {
     "data": {
      "image/png": "[encoded data removed]",
      "text/plain": [
       "<Figure size 432x288 with 1 Axes>"
      ]
     },
     "metadata": {
      "needs_background": "light"
     },
     "output_type": "display_data"
    }
   ],
   "source": [
    "sns.boxplot(x='gender', y='start_hour',data=merge, showfliers=False)"
   ]
  },
  {
   "cell_type": "code",
   "execution_count": 590,
   "metadata": {},
   "outputs": [
    {
     "data": {
      "text/plain": [
       "<matplotlib.axes._subplots.AxesSubplot at 0x27b896820b8>"
      ]
     },
     "execution_count": 590,
     "metadata": {},
     "output_type": "execute_result"
    },
    {
     "data": {
      "image/png": "[encoded data removed]",
      "text/plain": [
       "<Figure size 432x288 with 1 Axes>"
      ]
     },
     "metadata": {
      "needs_background": "light"
     },
     "output_type": "display_data"
    }
   ],
   "source": [
    "sns.boxplot(x='gender', y='end_hour',data=merge, showfliers=False)"
   ]
  },
  {
   "cell_type": "markdown",
   "metadata": {},
   "source": [
    "As shown in the three figures above, there is no clear difference between male and female for session time, start hour and end hour. Therefore, these features are excluded in the classification."
   ]
  },
  {
   "cell_type": "markdown",
   "metadata": {},
   "source": [
    "Next, we process the 'products' column, which contains the list of ordered products in each session."
   ]
  },
  {
   "cell_type": "code",
   "execution_count": 591,
   "metadata": {},
   "outputs": [
    {
     "data": {
      "text/plain": [
       "array(['A00001/B00001/C00001/D00001/', 'A00002/B00002/C00002/D24897/',\n",
       "       'A00002/B00002/C00002/D00002/;A00002/B00002/C00003/D00003/;A00002/B00002/C00007/D00007/;A00002/B00002/C00002/D00009/;A00002/B00002/C00003/D00010/;A00002/B00002/C00007/D00011/;A00002/B00002/C00002/D00012/;A00002/B00002/C00007/D00014/;A00002/B00002/C00003/D00017/;A00002/B00002/C00011/D00021/;A00002/B00002/C00004/D00023/;A00002/B00002/C00012/D00025/',\n",
       "       'A00002/B00006/C00015/D00030/',\n",
       "       'A00002/B00002/C00003/D00033/;A00002/B00002/C00007/D00035/;A00002/B00002/C00007/D00038/',\n",
       "       'A00002/B00007/C00016/D00836/',\n",
       "       'A00002/B00006/C00030/D05969/;A00002/B00006/C00030/D05970/;A00002/B00006/C00030/D05971/;A00002/B00006/C00030/D05972/;A00002/B00006/C00030/D05974/;A00002/B00006/C00030/D05976/',\n",
       "       'A00002/B00006/C00030/D05978/;A00002/B00006/C00015/D05980/',\n",
       "       'A00002/B00002/C00002/D06873/', 'A00002/B00011/C00180/D14591/'],\n",
       "      dtype=object)"
      ]
     },
     "execution_count": 591,
     "metadata": {},
     "output_type": "execute_result"
    }
   ],
   "source": [
    "product_col = merge.products.values\n",
    "product_col[:10]"
   ]
  },
  {
   "cell_type": "markdown",
   "metadata": {},
   "source": [
    "Since in a shopping session, any number of orders is accepted, each row of the 'products' columns can contain any number of values. This is invalid in machine learning, where each variable of an observation contains one value. The column needs to be transformed. \n",
    "\n",
    "For each product ordered, we know which category, sub-category (A, B, C, D) that the product belongs to. In my opinion, we can use this information to classify users' genders. My approach is to transform the 'products' column into boolean columns of categories and sub-categories. So, for categories of type A, we have columns 'A00001', 'A00002',... . For categories of type B, there are columns 'A00001/B00001', 'A00002/B00002',... . For each session ( row ), if a product of a category, sub-category is ordered, then the values in the columns that represent those category, sub-category are 'True', otherwise, the values are 'False'. For example, if in a session, the user orders a product 'A00001/B00001/C00001/D00001/', then values for the columns 'A00001', 'A00001/B00001' and 'A00001/B00001/C00001' are 'True', the value for the column 'A00002' is 'False' because there is no ordered product in that category.     \n",
    "\n",
    "**Remark:** In each sub-category's label, the label of higher level categories also need to be included, otherwise, the sub-category 'B00001' of 'A00001' will be treated as 'B00001' of 'A00002' ( same labels but different parent categories )."
   ]
  },
  {
   "cell_type": "markdown",
   "metadata": {},
   "source": [
    "Firstly, we need to find categories, sub-categories of the ordered products in each session. We do not care about product labels because the number of unique products is too high, which could lead to very high dimensional data, while most of the products are ordered once or twice. Therefore, product labels do not help with the classification. "
   ]
  },
  {
   "cell_type": "code",
   "execution_count": 592,
   "metadata": {},
   "outputs": [
    {
     "data": {
      "text/plain": [
       "33455"
      ]
     },
     "execution_count": 592,
     "metadata": {},
     "output_type": "execute_result"
    }
   ],
   "source": [
    "orders = []\n",
    "for row in product_col:\n",
    "    orders.extend(row.split(';'))\n",
    "len(orders)"
   ]
  },
  {
   "cell_type": "markdown",
   "metadata": {},
   "source": [
    "There are 33455 products ordered from 15000 shopping sessions"
   ]
  },
  {
   "cell_type": "code",
   "execution_count": 593,
   "metadata": {},
   "outputs": [
    {
     "data": {
      "text/plain": [
       "21888"
      ]
     },
     "execution_count": 593,
     "metadata": {},
     "output_type": "execute_result"
    }
   ],
   "source": [
    "products, counts = np.unique(purchased, return_counts=True)\n",
    "catalogue = dict(zip(products, counts))\n",
    "len(catalogue)"
   ]
  },
  {
   "cell_type": "markdown",
   "metadata": {},
   "source": [
    "The number of unique products ordered is 21888, much larger than the number of sessions. "
   ]
  },
  {
   "cell_type": "markdown",
   "metadata": {},
   "source": [
    "For each session, we every category A that the ordered products belong to and store them in the variable A. A is a list of sets so that each category is included once for each session even if there are many products of that category ordered in that session. Also, it is efficient when filling new columns with values, checking if a category or a sub-category exists in a session is O(1). "
   ]
  },
  {
   "cell_type": "code",
   "execution_count": 594,
   "metadata": {},
   "outputs": [
    {
     "data": {
      "text/plain": [
       "[{'A00001'},\n",
       " {'A00002'},\n",
       " {'A00002'},\n",
       " {'A00002'},\n",
       " {'A00002'},\n",
       " {'A00002'},\n",
       " {'A00002'},\n",
       " {'A00002'},\n",
       " {'A00002'},\n",
       " {'A00002'}]"
      ]
     },
     "execution_count": 594,
     "metadata": {},
     "output_type": "execute_result"
    }
   ],
   "source": [
    "A = [set([product.split('/')[0] for product in row.split(';')]) for row in product_col]\n",
    "A[:10]"
   ]
  },
  {
   "cell_type": "markdown",
   "metadata": {},
   "source": [
    "Likewise, we find every B category for each session..."
   ]
  },
  {
   "cell_type": "code",
   "execution_count": 595,
   "metadata": {},
   "outputs": [
    {
     "data": {
      "text/plain": [
       "[{'A00001/B00001'},\n",
       " {'A00002/B00002'},\n",
       " {'A00002/B00002'},\n",
       " {'A00002/B00006'},\n",
       " {'A00002/B00002'},\n",
       " {'A00002/B00007'},\n",
       " {'A00002/B00006'},\n",
       " {'A00002/B00006'},\n",
       " {'A00002/B00002'},\n",
       " {'A00002/B00011'}]"
      ]
     },
     "execution_count": 595,
     "metadata": {},
     "output_type": "execute_result"
    }
   ],
   "source": [
    "B = [set(['/'.join(product.split('/')[:2]) for product in row.split(';')]) for row in product_col]\n",
    "B[:10]"
   ]
  },
  {
   "cell_type": "markdown",
   "metadata": {},
   "source": [
    "and then every C for each session."
   ]
  },
  {
   "cell_type": "code",
   "execution_count": 596,
   "metadata": {},
   "outputs": [
    {
     "data": {
      "text/plain": [
       "[{'A00001/B00001/C00001'},\n",
       " {'A00002/B00002/C00002'},\n",
       " {'A00002/B00002/C00002',\n",
       "  'A00002/B00002/C00003',\n",
       "  'A00002/B00002/C00004',\n",
       "  'A00002/B00002/C00007',\n",
       "  'A00002/B00002/C00011',\n",
       "  'A00002/B00002/C00012'},\n",
       " {'A00002/B00006/C00015'},\n",
       " {'A00002/B00002/C00003', 'A00002/B00002/C00007'},\n",
       " {'A00002/B00007/C00016'},\n",
       " {'A00002/B00006/C00030'},\n",
       " {'A00002/B00006/C00015', 'A00002/B00006/C00030'},\n",
       " {'A00002/B00002/C00002'},\n",
       " {'A00002/B00011/C00180'}]"
      ]
     },
     "execution_count": 596,
     "metadata": {},
     "output_type": "execute_result"
    }
   ],
   "source": [
    "C = [set(['/'.join(product.split('/')[:3]) for product in row.split(';')]) for row in product_col]\n",
    "C[:10]"
   ]
  },
  {
   "cell_type": "markdown",
   "metadata": {},
   "source": [
    "After that, we find every possible label for A, B, C categories, which are new features for the input data. "
   ]
  },
  {
   "cell_type": "code",
   "execution_count": 597,
   "metadata": {},
   "outputs": [
    {
     "data": {
      "text/plain": [
       "{'A00001',\n",
       " 'A00002',\n",
       " 'A00003',\n",
       " 'A00004',\n",
       " 'A00005',\n",
       " 'A00006',\n",
       " 'A00007',\n",
       " 'A00008',\n",
       " 'A00009',\n",
       " 'A00010',\n",
       " 'A00011'}"
      ]
     },
     "execution_count": 597,
     "metadata": {},
     "output_type": "execute_result"
    }
   ],
   "source": [
    "unique_A = set().union(*A)\n",
    "unique_A"
   ]
  },
  {
   "cell_type": "code",
   "execution_count": 598,
   "metadata": {},
   "outputs": [],
   "source": [
    "unique_B = set().union(*B)\n",
    "unique_C = set().union(*C)"
   ]
  },
  {
   "cell_type": "markdown",
   "metadata": {},
   "source": [
    "Then, we compute the values for the new columns in each session."
   ]
  },
  {
   "cell_type": "code",
   "execution_count": 599,
   "metadata": {},
   "outputs": [
    {
     "data": {
      "text/plain": [
       "[[False, True, False, False, False, False, False, False, False, False, False],\n",
       " [False, False, False, False, False, True, False, False, False, False, False],\n",
       " [False, False, False, False, False, True, False, False, False, False, False],\n",
       " [False, False, False, False, False, True, False, False, False, False, False],\n",
       " [False, False, False, False, False, True, False, False, False, False, False],\n",
       " [False, False, False, False, False, True, False, False, False, False, False],\n",
       " [False, False, False, False, False, True, False, False, False, False, False],\n",
       " [False, False, False, False, False, True, False, False, False, False, False],\n",
       " [False, False, False, False, False, True, False, False, False, False, False],\n",
       " [False, False, False, False, False, True, False, False, False, False, False]]"
      ]
     },
     "execution_count": 599,
     "metadata": {},
     "output_type": "execute_result"
    }
   ],
   "source": [
    "A_cols = list(unique_A)\n",
    "A_values = [[(cat in row) for cat in A_cols] for row in A]\n",
    "A_values[:10]"
   ]
  },
  {
   "cell_type": "code",
   "execution_count": 600,
   "metadata": {},
   "outputs": [],
   "source": [
    "B_cols = list(unique_B)\n",
    "B_values = [[(cat in row) for cat in B_cols] for row in B]\n",
    "\n",
    "C_cols = list(unique_C)\n",
    "C_values = [[(cat in row) for cat in C_cols] for row in C]"
   ]
  },
  {
   "cell_type": "markdown",
   "metadata": {},
   "source": [
    "Then, from those 2D arrays, we create dataframtes which contain the new columns with correspoding values for the sessions. These dataframes will be merged together to create the input data for the classification model."
   ]
  },
  {
   "cell_type": "code",
   "execution_count": 601,
   "metadata": {},
   "outputs": [
    {
     "data": {
      "text/html": [
       "<div>\n",
       "<style scoped>\n",
       "    .dataframe tbody tr th:only-of-type {\n",
       "        vertical-align: middle;\n",
       "    }\n",
       "\n",
       "    .dataframe tbody tr th {\n",
       "        vertical-align: top;\n",
       "    }\n",
       "\n",
       "    .dataframe thead th {\n",
       "        text-align: right;\n",
       "    }\n",
       "</style>\n",
       "<table border=\"1\" class=\"dataframe\">\n",
       "  <thead>\n",
       "    <tr style=\"text-align: right;\">\n",
       "      <th></th>\n",
       "      <th>A00005</th>\n",
       "      <th>A00001</th>\n",
       "      <th>A00007</th>\n",
       "      <th>A00010</th>\n",
       "      <th>A00003</th>\n",
       "      <th>A00002</th>\n",
       "      <th>A00004</th>\n",
       "      <th>A00011</th>\n",
       "      <th>A00008</th>\n",
       "      <th>A00009</th>\n",
       "      <th>A00006</th>\n",
       "    </tr>\n",
       "  </thead>\n",
       "  <tbody>\n",
       "    <tr>\n",
       "      <th>0</th>\n",
       "      <td>False</td>\n",
       "      <td>True</td>\n",
       "      <td>False</td>\n",
       "      <td>False</td>\n",
       "      <td>False</td>\n",
       "      <td>False</td>\n",
       "      <td>False</td>\n",
       "      <td>False</td>\n",
       "      <td>False</td>\n",
       "      <td>False</td>\n",
       "      <td>False</td>\n",
       "    </tr>\n",
       "    <tr>\n",
       "      <th>1</th>\n",
       "      <td>False</td>\n",
       "      <td>False</td>\n",
       "      <td>False</td>\n",
       "      <td>False</td>\n",
       "      <td>False</td>\n",
       "      <td>True</td>\n",
       "      <td>False</td>\n",
       "      <td>False</td>\n",
       "      <td>False</td>\n",
       "      <td>False</td>\n",
       "      <td>False</td>\n",
       "    </tr>\n",
       "    <tr>\n",
       "      <th>2</th>\n",
       "      <td>False</td>\n",
       "      <td>False</td>\n",
       "      <td>False</td>\n",
       "      <td>False</td>\n",
       "      <td>False</td>\n",
       "      <td>True</td>\n",
       "      <td>False</td>\n",
       "      <td>False</td>\n",
       "      <td>False</td>\n",
       "      <td>False</td>\n",
       "      <td>False</td>\n",
       "    </tr>\n",
       "    <tr>\n",
       "      <th>3</th>\n",
       "      <td>False</td>\n",
       "      <td>False</td>\n",
       "      <td>False</td>\n",
       "      <td>False</td>\n",
       "      <td>False</td>\n",
       "      <td>True</td>\n",
       "      <td>False</td>\n",
       "      <td>False</td>\n",
       "      <td>False</td>\n",
       "      <td>False</td>\n",
       "      <td>False</td>\n",
       "    </tr>\n",
       "    <tr>\n",
       "      <th>4</th>\n",
       "      <td>False</td>\n",
       "      <td>False</td>\n",
       "      <td>False</td>\n",
       "      <td>False</td>\n",
       "      <td>False</td>\n",
       "      <td>True</td>\n",
       "      <td>False</td>\n",
       "      <td>False</td>\n",
       "      <td>False</td>\n",
       "      <td>False</td>\n",
       "      <td>False</td>\n",
       "    </tr>\n",
       "  </tbody>\n",
       "</table>\n",
       "</div>"
      ],
      "text/plain": [
       "   A00005  A00001  A00007  A00010  A00003  A00002  A00004  A00011  A00008  \\\n",
       "0   False    True   False   False   False   False   False   False   False   \n",
       "1   False   False   False   False   False    True   False   False   False   \n",
       "2   False   False   False   False   False    True   False   False   False   \n",
       "3   False   False   False   False   False    True   False   False   False   \n",
       "4   False   False   False   False   False    True   False   False   False   \n",
       "\n",
       "   A00009  A00006  \n",
       "0   False   False  \n",
       "1   False   False  \n",
       "2   False   False  \n",
       "3   False   False  \n",
       "4   False   False  "
      ]
     },
     "execution_count": 601,
     "metadata": {},
     "output_type": "execute_result"
    }
   ],
   "source": [
    "A_features = pd.DataFrame(A_values, columns=A_cols)\n",
    "A_features.head()"
   ]
  },
  {
   "cell_type": "code",
   "execution_count": 602,
   "metadata": {},
   "outputs": [],
   "source": [
    "B_features = pd.DataFrame(B_values, columns=B_cols)\n",
    "C_features = pd.DataFrame(C_values, columns=C_cols)"
   ]
  },
  {
   "cell_type": "markdown",
   "metadata": {},
   "source": [
    "The input data X is created by merging the new dataframes."
   ]
  },
  {
   "cell_type": "code",
   "execution_count": 603,
   "metadata": {},
   "outputs": [
    {
     "data": {
      "text/html": [
       "<div>\n",
       "<style scoped>\n",
       "    .dataframe tbody tr th:only-of-type {\n",
       "        vertical-align: middle;\n",
       "    }\n",
       "\n",
       "    .dataframe tbody tr th {\n",
       "        vertical-align: top;\n",
       "    }\n",
       "\n",
       "    .dataframe thead th {\n",
       "        text-align: right;\n",
       "    }\n",
       "</style>\n",
       "<table border=\"1\" class=\"dataframe\">\n",
       "  <thead>\n",
       "    <tr style=\"text-align: right;\">\n",
       "      <th></th>\n",
       "      <th>A00005</th>\n",
       "      <th>A00001</th>\n",
       "      <th>A00007</th>\n",
       "      <th>A00010</th>\n",
       "      <th>A00003</th>\n",
       "      <th>A00002</th>\n",
       "      <th>A00004</th>\n",
       "      <th>A00011</th>\n",
       "      <th>A00008</th>\n",
       "      <th>A00009</th>\n",
       "      <th>...</th>\n",
       "      <th>A00001/B00004/C00066</th>\n",
       "      <th>A00003/B00035/C00107</th>\n",
       "      <th>A00001/B00015/C00041</th>\n",
       "      <th>A00011/B00056/C00169</th>\n",
       "      <th>A00001/B00027/C00275</th>\n",
       "      <th>A00011/B00056/C00299</th>\n",
       "      <th>A00002/B00004/C00154</th>\n",
       "      <th>A00010/B00069/C00246</th>\n",
       "      <th>A00002/B00005/C00013</th>\n",
       "      <th>A00002/B00005/C00058</th>\n",
       "    </tr>\n",
       "  </thead>\n",
       "  <tbody>\n",
       "    <tr>\n",
       "      <th>0</th>\n",
       "      <td>False</td>\n",
       "      <td>True</td>\n",
       "      <td>False</td>\n",
       "      <td>False</td>\n",
       "      <td>False</td>\n",
       "      <td>False</td>\n",
       "      <td>False</td>\n",
       "      <td>False</td>\n",
       "      <td>False</td>\n",
       "      <td>False</td>\n",
       "      <td>...</td>\n",
       "      <td>False</td>\n",
       "      <td>False</td>\n",
       "      <td>False</td>\n",
       "      <td>False</td>\n",
       "      <td>False</td>\n",
       "      <td>False</td>\n",
       "      <td>False</td>\n",
       "      <td>False</td>\n",
       "      <td>False</td>\n",
       "      <td>False</td>\n",
       "    </tr>\n",
       "    <tr>\n",
       "      <th>1</th>\n",
       "      <td>False</td>\n",
       "      <td>False</td>\n",
       "      <td>False</td>\n",
       "      <td>False</td>\n",
       "      <td>False</td>\n",
       "      <td>True</td>\n",
       "      <td>False</td>\n",
       "      <td>False</td>\n",
       "      <td>False</td>\n",
       "      <td>False</td>\n",
       "      <td>...</td>\n",
       "      <td>False</td>\n",
       "      <td>False</td>\n",
       "      <td>False</td>\n",
       "      <td>False</td>\n",
       "      <td>False</td>\n",
       "      <td>False</td>\n",
       "      <td>False</td>\n",
       "      <td>False</td>\n",
       "      <td>False</td>\n",
       "      <td>False</td>\n",
       "    </tr>\n",
       "    <tr>\n",
       "      <th>2</th>\n",
       "      <td>False</td>\n",
       "      <td>False</td>\n",
       "      <td>False</td>\n",
       "      <td>False</td>\n",
       "      <td>False</td>\n",
       "      <td>True</td>\n",
       "      <td>False</td>\n",
       "      <td>False</td>\n",
       "      <td>False</td>\n",
       "      <td>False</td>\n",
       "      <td>...</td>\n",
       "      <td>False</td>\n",
       "      <td>False</td>\n",
       "      <td>False</td>\n",
       "      <td>False</td>\n",
       "      <td>False</td>\n",
       "      <td>False</td>\n",
       "      <td>False</td>\n",
       "      <td>False</td>\n",
       "      <td>False</td>\n",
       "      <td>False</td>\n",
       "    </tr>\n",
       "    <tr>\n",
       "      <th>3</th>\n",
       "      <td>False</td>\n",
       "      <td>False</td>\n",
       "      <td>False</td>\n",
       "      <td>False</td>\n",
       "      <td>False</td>\n",
       "      <td>True</td>\n",
       "      <td>False</td>\n",
       "      <td>False</td>\n",
       "      <td>False</td>\n",
       "      <td>False</td>\n",
       "      <td>...</td>\n",
       "      <td>False</td>\n",
       "      <td>False</td>\n",
       "      <td>False</td>\n",
       "      <td>False</td>\n",
       "      <td>False</td>\n",
       "      <td>False</td>\n",
       "      <td>False</td>\n",
       "      <td>False</td>\n",
       "      <td>False</td>\n",
       "      <td>False</td>\n",
       "    </tr>\n",
       "    <tr>\n",
       "      <th>4</th>\n",
       "      <td>False</td>\n",
       "      <td>False</td>\n",
       "      <td>False</td>\n",
       "      <td>False</td>\n",
       "      <td>False</td>\n",
       "      <td>True</td>\n",
       "      <td>False</td>\n",
       "      <td>False</td>\n",
       "      <td>False</td>\n",
       "      <td>False</td>\n",
       "      <td>...</td>\n",
       "      <td>False</td>\n",
       "      <td>False</td>\n",
       "      <td>False</td>\n",
       "      <td>False</td>\n",
       "      <td>False</td>\n",
       "      <td>False</td>\n",
       "      <td>False</td>\n",
       "      <td>False</td>\n",
       "      <td>False</td>\n",
       "      <td>False</td>\n",
       "    </tr>\n",
       "  </tbody>\n",
       "</table>\n",
       "<p>5 rows × 576 columns</p>\n",
       "</div>"
      ],
      "text/plain": [
       "   A00005  A00001  A00007  A00010  A00003  A00002  A00004  A00011  A00008  \\\n",
       "0   False    True   False   False   False   False   False   False   False   \n",
       "1   False   False   False   False   False    True   False   False   False   \n",
       "2   False   False   False   False   False    True   False   False   False   \n",
       "3   False   False   False   False   False    True   False   False   False   \n",
       "4   False   False   False   False   False    True   False   False   False   \n",
       "\n",
       "   A00009  ...  A00001/B00004/C00066  A00003/B00035/C00107  \\\n",
       "0   False  ...                 False                 False   \n",
       "1   False  ...                 False                 False   \n",
       "2   False  ...                 False                 False   \n",
       "3   False  ...                 False                 False   \n",
       "4   False  ...                 False                 False   \n",
       "\n",
       "   A00001/B00015/C00041  A00011/B00056/C00169  A00001/B00027/C00275  \\\n",
       "0                 False                 False                 False   \n",
       "1                 False                 False                 False   \n",
       "2                 False                 False                 False   \n",
       "3                 False                 False                 False   \n",
       "4                 False                 False                 False   \n",
       "\n",
       "   A00011/B00056/C00299  A00002/B00004/C00154  A00010/B00069/C00246  \\\n",
       "0                 False                 False                 False   \n",
       "1                 False                 False                 False   \n",
       "2                 False                 False                 False   \n",
       "3                 False                 False                 False   \n",
       "4                 False                 False                 False   \n",
       "\n",
       "   A00002/B00005/C00013  A00002/B00005/C00058  \n",
       "0                 False                 False  \n",
       "1                 False                 False  \n",
       "2                 False                 False  \n",
       "3                 False                 False  \n",
       "4                 False                 False  \n",
       "\n",
       "[5 rows x 576 columns]"
      ]
     },
     "execution_count": 603,
     "metadata": {},
     "output_type": "execute_result"
    }
   ],
   "source": [
    "X = A_features.merge(B_features, left_index=True, right_index=True).merge(C_features, left_index=True, right_index=True)\n",
    "X.head()"
   ]
  },
  {
   "cell_type": "markdown",
   "metadata": {},
   "source": [
    "The target data y is the gender column. It need to be converted to boolean. If the gender is 'male', then the value is 'True', otherwise 'False'."
   ]
  },
  {
   "cell_type": "code",
   "execution_count": 604,
   "metadata": {},
   "outputs": [
    {
     "data": {
      "text/plain": [
       "0    False\n",
       "1    False\n",
       "2    False\n",
       "3    False\n",
       "4    False\n",
       "Name: gender, dtype: bool"
      ]
     },
     "execution_count": 604,
     "metadata": {},
     "output_type": "execute_result"
    }
   ],
   "source": [
    "y = (merge.gender == 'male') \n",
    "y.head()"
   ]
  },
  {
   "cell_type": "markdown",
   "metadata": {},
   "source": [
    "## Classification"
   ]
  },
  {
   "cell_type": "markdown",
   "metadata": {},
   "source": [
    "As all the features are boolean and the classification is binary, in my opinion, the best model for the classification is Decision Tree or its variants like Random Forest. \n",
    "\n",
    "A Decision Tree is trained by going through the shopping data and asking whether the ordered products belongs to a category or a sub-category to perform the classification. If a category or a sub-category can well seperate male and female users ( spliting into new nodes that have the least impurities ), then it is chosen to split the data. The subsets of the data then go to the next questions for other (sub-)categories until no splitting improvement can be observed. In the end, the data is splitted into multiple subsets and contained in the leaf nodes of the Decision Tree, each leaf node represents the dominated class ( male or female ) of the contained subset.  \n",
    "\n",
    "Later, the tree can classify a session by asking the same sets of questions to that session, the session will travel from one question ( node ) to another until reaching leaf node, the class ( male or female ) of session is decided by the class of the leaf node.\n",
    "\n",
    "A Random Forest is an ensemble learning method, which is composed of multiple trees and each tree is trained with a sample from the original training data. After the training, an input data is classified going through each tree in the Random Forest. The class of data is the class returned by most of the trees. \n",
    "\n",
    "We will test this two models for the shopping data."
   ]
  },
  {
   "cell_type": "code",
   "execution_count": 605,
   "metadata": {},
   "outputs": [],
   "source": [
    "from sklearn.model_selection import train_test_split\n",
    "from sklearn.tree import DecisionTreeClassifier\n",
    "from sklearn.ensemble import RandomForestClassifier\n",
    "from sklearn.metrics import classification_report, confusion_matrix"
   ]
  },
  {
   "cell_type": "markdown",
   "metadata": {},
   "source": [
    "We split the data into two subsets, one for training and the other for testing ( ratio 2:1 ), the two subsets will have the same proportion for each class ( stratify=y )."
   ]
  },
  {
   "cell_type": "code",
   "execution_count": 606,
   "metadata": {},
   "outputs": [],
   "source": [
    "X_train, X_test, y_train, y_test = train_test_split(X, y, test_size=0.33, stratify=y,random_state=42)"
   ]
  },
  {
   "cell_type": "markdown",
   "metadata": {},
   "source": [
    "We create a Decision Tree and fit the training data."
   ]
  },
  {
   "cell_type": "code",
   "execution_count": 607,
   "metadata": {},
   "outputs": [
    {
     "data": {
      "text/plain": [
       "DecisionTreeClassifier(class_weight=None, criterion='gini', max_depth=None,\n",
       "                       max_features=None, max_leaf_nodes=None,\n",
       "                       min_impurity_decrease=0.0, min_impurity_split=None,\n",
       "                       min_samples_leaf=1, min_samples_split=2,\n",
       "                       min_weight_fraction_leaf=0.0, presort=False,\n",
       "                       random_state=None, splitter='best')"
      ]
     },
     "execution_count": 607,
     "metadata": {},
     "output_type": "execute_result"
    }
   ],
   "source": [
    "tree = DecisionTreeClassifier()\n",
    "tree.fit(X_train, y_train)"
   ]
  },
  {
   "cell_type": "markdown",
   "metadata": {},
   "source": [
    "Then we use the trained tree to perform a classification on test data, computing the confusion matrix."
   ]
  },
  {
   "cell_type": "code",
   "execution_count": 608,
   "metadata": {},
   "outputs": [
    {
     "data": {
      "text/plain": [
       "(3613, 249, 471, 617)"
      ]
     },
     "execution_count": 608,
     "metadata": {},
     "output_type": "execute_result"
    }
   ],
   "source": [
    "y_pred = tree.predict(X_test)\n",
    "tn, fp, fn, tp = confusion_matrix(y_test, y_pred).ravel()\n",
    "(tn, fp, fn, tp)"
   ]
  },
  {
   "cell_type": "markdown",
   "metadata": {},
   "source": [
    "The positive class represents 'male' and the negative one is 'female'. Therefore, tp is the number of correctly classified males, tn is number of correctly classified females, fp is the number of females classified as males, fn is the number of males classified as females."
   ]
  },
  {
   "cell_type": "code",
   "execution_count": 609,
   "metadata": {},
   "outputs": [
    {
     "data": {
      "text/plain": [
       "0.5670955882352942"
      ]
     },
     "execution_count": 609,
     "metadata": {},
     "output_type": "execute_result"
    }
   ],
   "source": [
    "male_correct = tp\n",
    "male_total = tp + fn\n",
    "male_correct / male_total"
   ]
  },
  {
   "cell_type": "code",
   "execution_count": 610,
   "metadata": {},
   "outputs": [
    {
     "data": {
      "text/plain": [
       "0.9355256343863283"
      ]
     },
     "execution_count": 610,
     "metadata": {},
     "output_type": "execute_result"
    }
   ],
   "source": [
    "female_correct = tn\n",
    "female_total = tn + fp\n",
    "female_correct / female_total"
   ]
  },
  {
   "cell_type": "code",
   "execution_count": 611,
   "metadata": {},
   "outputs": [
    {
     "data": {
      "text/plain": [
       "0.7513106113108112"
      ]
     },
     "execution_count": 611,
     "metadata": {},
     "output_type": "execute_result"
    }
   ],
   "source": [
    "Score = (male_correct / male_total + female_correct / female_total) / 2\n",
    "Score"
   ]
  },
  {
   "cell_type": "markdown",
   "metadata": {},
   "source": [
    "With Decision Tree, more than 56% of males and 93% of females are correctly classified. The overall score for this model is 0.751.\n",
    "\n",
    "Next we will train a Random Forest to see if there is any improvement."
   ]
  },
  {
   "cell_type": "code",
   "execution_count": 612,
   "metadata": {},
   "outputs": [
    {
     "data": {
      "text/plain": [
       "RandomForestClassifier(bootstrap=True, class_weight=None, criterion='gini',\n",
       "                       max_depth=None, max_features='auto', max_leaf_nodes=None,\n",
       "                       min_impurity_decrease=0.0, min_impurity_split=None,\n",
       "                       min_samples_leaf=1, min_samples_split=2,\n",
       "                       min_weight_fraction_leaf=0.0, n_estimators=100,\n",
       "                       n_jobs=None, oob_score=False, random_state=42, verbose=0,\n",
       "                       warm_start=False)"
      ]
     },
     "execution_count": 612,
     "metadata": {},
     "output_type": "execute_result"
    }
   ],
   "source": [
    "forest = RandomForestClassifier(n_estimators=100, random_state=42)\n",
    "forest.fit(X_train, y_train)"
   ]
  },
  {
   "cell_type": "code",
   "execution_count": 613,
   "metadata": {},
   "outputs": [
    {
     "data": {
      "text/plain": [
       "(3641, 221, 464, 624)"
      ]
     },
     "execution_count": 613,
     "metadata": {},
     "output_type": "execute_result"
    }
   ],
   "source": [
    "y_pred = forest.predict(X_test)\n",
    "tn, fp, fn, tp = confusion_matrix(y_test, y_pred).ravel()\n",
    "(tn, fp, fn, tp)"
   ]
  },
  {
   "cell_type": "code",
   "execution_count": 614,
   "metadata": {},
   "outputs": [
    {
     "data": {
      "text/plain": [
       "0.5735294117647058"
      ]
     },
     "execution_count": 614,
     "metadata": {},
     "output_type": "execute_result"
    }
   ],
   "source": [
    "male_correct = tp\n",
    "male_total = tp + fn\n",
    "male_correct / male_total"
   ]
  },
  {
   "cell_type": "code",
   "execution_count": 615,
   "metadata": {},
   "outputs": [
    {
     "data": {
      "text/plain": [
       "0.9427757638529259"
      ]
     },
     "execution_count": 615,
     "metadata": {},
     "output_type": "execute_result"
    }
   ],
   "source": [
    "female_correct = tn\n",
    "female_total = tn + fp\n",
    "female_correct / female_total"
   ]
  },
  {
   "cell_type": "code",
   "execution_count": 616,
   "metadata": {},
   "outputs": [
    {
     "data": {
      "text/plain": [
       "0.7581525878088159"
      ]
     },
     "execution_count": 616,
     "metadata": {},
     "output_type": "execute_result"
    }
   ],
   "source": [
    "Score = (male_correct / male_total + female_correct / female_total) / 2\n",
    "Score"
   ]
  },
  {
   "cell_type": "markdown",
   "metadata": {},
   "source": [
    "With Random Forest, the result is slightly better. More than 57% of males and 94% of females are correctly classified, the overall score is 0.758.\n",
    "\n",
    "However, there is still a significant difference when classifying male and female users ( 57% vs 94% ). This is because that there are more sessions created by females than males."
   ]
  },
  {
   "cell_type": "code",
   "execution_count": 617,
   "metadata": {},
   "outputs": [
    {
     "data": {
      "text/plain": [
       "3.5496323529411766"
      ]
     },
     "execution_count": 617,
     "metadata": {},
     "output_type": "execute_result"
    }
   ],
   "source": [
    "female_total / male_total"
   ]
  },
  {
   "cell_type": "markdown",
   "metadata": {},
   "source": [
    "Female users are about 3.5 times more than male users. One way to tackle this problem is to undersample the female class. We perform it on the training data, 60% of female data will be used to train the model."
   ]
  },
  {
   "cell_type": "code",
   "execution_count": 620,
   "metadata": {},
   "outputs": [],
   "source": [
    "X_train, X_test, y_train, y_test = train_test_split(X, y, test_size=0.33, stratify=y,random_state=42)"
   ]
  },
  {
   "cell_type": "code",
   "execution_count": 621,
   "metadata": {},
   "outputs": [],
   "source": [
    "Xy = X_train.merge(y_train, left_index=True, right_index=True)\n",
    "Xy_male = Xy[Xy.gender == True]\n",
    "Xy_female = Xy[Xy.gender == False]\n",
    "Xy = pd.concat([Xy_female.sample(frac=0.6, random_state=1), Xy_male], ignore_index=True)\n",
    "\n",
    "X_train = Xy.drop(['gender'], axis=1)\n",
    "y_train = Xy.gender"
   ]
  },
  {
   "cell_type": "markdown",
   "metadata": {},
   "source": [
    "Then we use the undersampled data to train a new Random Forest to see if the result is better."
   ]
  },
  {
   "cell_type": "code",
   "execution_count": 622,
   "metadata": {},
   "outputs": [
    {
     "data": {
      "text/plain": [
       "RandomForestClassifier(bootstrap=True, class_weight=None, criterion='gini',\n",
       "                       max_depth=None, max_features='auto', max_leaf_nodes=None,\n",
       "                       min_impurity_decrease=0.0, min_impurity_split=None,\n",
       "                       min_samples_leaf=1, min_samples_split=2,\n",
       "                       min_weight_fraction_leaf=0.0, n_estimators=100,\n",
       "                       n_jobs=None, oob_score=False, random_state=42, verbose=0,\n",
       "                       warm_start=False)"
      ]
     },
     "execution_count": 622,
     "metadata": {},
     "output_type": "execute_result"
    }
   ],
   "source": [
    "forest = RandomForestClassifier(n_estimators=100, random_state=42)\n",
    "forest.fit(X_train, y_train)"
   ]
  },
  {
   "cell_type": "code",
   "execution_count": 623,
   "metadata": {},
   "outputs": [
    {
     "data": {
      "text/plain": [
       "(3572, 290, 417, 671)"
      ]
     },
     "execution_count": 623,
     "metadata": {},
     "output_type": "execute_result"
    }
   ],
   "source": [
    "y_pred = forest.predict(X_test)\n",
    "tn, fp, fn, tp = confusion_matrix(y_test, y_pred).ravel()\n",
    "(tn, fp, fn, tp)"
   ]
  },
  {
   "cell_type": "code",
   "execution_count": 624,
   "metadata": {},
   "outputs": [
    {
     "data": {
      "text/plain": [
       "0.6167279411764706"
      ]
     },
     "execution_count": 624,
     "metadata": {},
     "output_type": "execute_result"
    }
   ],
   "source": [
    "male_correct = tp\n",
    "male_total = tp + fn\n",
    "male_correct / male_total"
   ]
  },
  {
   "cell_type": "code",
   "execution_count": 625,
   "metadata": {},
   "outputs": [
    {
     "data": {
      "text/plain": [
       "0.9249093733816676"
      ]
     },
     "execution_count": 625,
     "metadata": {},
     "output_type": "execute_result"
    }
   ],
   "source": [
    "female_correct = tn\n",
    "female_total = tn + fp\n",
    "female_correct / female_total"
   ]
  },
  {
   "cell_type": "code",
   "execution_count": 626,
   "metadata": {},
   "outputs": [
    {
     "data": {
      "text/plain": [
       "0.7708186572790691"
      ]
     },
     "execution_count": 626,
     "metadata": {},
     "output_type": "execute_result"
    }
   ],
   "source": [
    "Score = (male_correct / male_total + female_correct / female_total) / 2\n",
    "Score"
   ]
  },
  {
   "cell_type": "markdown",
   "metadata": {},
   "source": [
    "After the undersampling, the percentage of males correctly classified increases from 57% to more than 61% whereas the percentage for females decreases from 94% to 92%. The score slightly increases from 0.758 to 0.771. "
   ]
  },
  {
   "cell_type": "code",
   "execution_count": null,
   "metadata": {},
   "outputs": [],
   "source": []
  }
 ],
 "metadata": {
  "kernelspec": {
   "display_name": "Python 3",
   "language": "python",
   "name": "python3"
  },
  "language_info": {
   "codemirror_mode": {
    "name": "ipython",
    "version": 3
   },
   "file_extension": ".py",
   "mimetype": "text/x-python",
   "name": "python",
   "nbconvert_exporter": "python",
   "pygments_lexer": "ipython3",
   "version": "3.6.8"
  }
 },
 "nbformat": 4,
 "nbformat_minor": 2
}
